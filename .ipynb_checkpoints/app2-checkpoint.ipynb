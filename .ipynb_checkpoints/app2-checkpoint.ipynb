{
 "cells": [
  {
   "cell_type": "markdown",
   "id": "d5ade2aa-d6a2-4bfc-aca2-53955e859cbc",
   "metadata": {},
   "source": [
    "# Preparativos"
   ]
  },
  {
   "cell_type": "markdown",
   "id": "b20d78a9-1421-4fe1-bc73-05b0ee75d82b",
   "metadata": {},
   "source": [
    "## Importando Biblioteca"
   ]
  },
  {
   "cell_type": "code",
   "execution_count": 1,
   "id": "7d1cb3d0-47c4-404f-a508-ce44930c5b5d",
   "metadata": {},
   "outputs": [],
   "source": [
    "import gradio as gr\n",
    "import joblib as jb\n",
    "import os\n",
    "import re"
   ]
  },
  {
   "cell_type": "markdown",
   "id": "c225571d-7d6c-44cb-ae0d-3433ad0be1cf",
   "metadata": {},
   "source": [
    "## Importando Modelos e Encoders"
   ]
  },
  {
   "cell_type": "code",
   "execution_count": 2,
   "id": "2630d6e6-f095-4955-aa91-8e07c647013e",
   "metadata": {},
   "outputs": [],
   "source": [
    "local = os.path.join(\".\", \"output\")\n",
    "# modelo\n",
    "model = jb.load(os.path.join(local, \"modelo.pkl\"))\n",
    "model.n_jobs = -1\n",
    "# normalização\n",
    "std = jb.load(os.path.join(local, \"normalizer.pkl\"))\n",
    "# encoders\n",
    "cabin_enconder = jb.load(os.path.join(local, \"cabin_encoder.pkl\"))\n",
    "embarked_encoder = jb.load(os.path.join(local, \"embarked_encoder.pkl\"))\n",
    "title_encoder = jb.load(os.path.join(local, \"title_econder.pkl\"))\n"
   ]
  },
  {
   "cell_type": "markdown",
   "id": "e0fb5e7b-7c97-4a30-9416-1275bc5eb80f",
   "metadata": {},
   "source": [
    "## Criando Cunções"
   ]
  },
  {
   "cell_type": "markdown",
   "id": "d3dc4bdf-9a57-4bf7-b84c-4d0565c3d9e1",
   "metadata": {},
   "source": [
    "Os dados da interface virão crus, desta forma, precisamos ajustalos para o modelo funcionar corretamente"
   ]
  },
  {
   "cell_type": "code",
   "execution_count": 3,
   "id": "ae2582f4-f540-4ac5-8964-5654fd860764",
   "metadata": {},
   "outputs": [],
   "source": [
    "def extract_title(nome):\n",
    "    # Extraindo titulo\n",
    "    Title = re.search(r\"([A-Za-z]+)\\.\", nome)[1]\n",
    "    \n",
    "    # Funções para diminuir a quantidade valores unicos\n",
    "    Mlle_Miss_Mme = lambda x: \"Miss\" if x.lower() in \"Mlle, Miss, Mme, Countess, Lady, Ms\".lower().split(\", \") else x\n",
    "    Other = lambda x: \"Othet\" if x.lower() not in \"Mr, Mrs, Miss\".lower().split(\", \") else x\n",
    "\n",
    "    Title = Mlle_Miss_Mme(Title)\n",
    "    Title = Other(Title)\n",
    "    \n",
    "    return title_encoder.transform([Title])[0]\n",
    "\n",
    "def extract_male(sex):\n",
    "    if sex.lower() == \"female\":\n",
    "        return 0\n",
    "    else:\n",
    "        return 1\n",
    "\n",
    "def cabin_let_code(cabin_let):\n",
    "    cabin_code = cabin_enconder.transform([cabin_let]).tolist()[0]\n",
    "    cabin_code.pop(1)\n",
    "    return cabin_code\n",
    "\n",
    "def normalizer(dados):\n",
    "    std_cols = std.get_feature_names_out()\n",
    "    std_values = [dados[key] if key != \"Family_size\" else 0 for key in std_cols]\n",
    "    norm = std.transform([std_values])[0].tolist()\n",
    "    for key, value in zip(std_cols, norm):\n",
    "        if key != \"Family_size\":\n",
    "            dados[key] = value\n",
    "    return dados\n"
   ]
  },
  {
   "cell_type": "markdown",
   "id": "94b3ebda-8c9f-4d59-8ff4-462ec31bc433",
   "metadata": {
    "tags": []
   },
   "source": [
    "# Interface"
   ]
  },
  {
   "cell_type": "code",
   "execution_count": 4,
   "id": "dbb1913a-de11-4625-b13b-a99eabfca16d",
   "metadata": {},
   "outputs": [],
   "source": [
    "def predict(Pclass, Age, SibSp, Parch, Fare, Sex, Embarked, Nome, Cabin_num, Cabin_let):\n",
    "    \n",
    "    dados = {\"Age\": None, \"Cabin_0\": None, \"Cabin_B\": None, \n",
    "     \"Cabin_C\": None, \"Cabin_D\": None, \"Cabin_E\": None, \n",
    "     \"Cabin_F\": None, \"Cabin_G\": None, \"Cabin_T\": None, \n",
    "     \"Cabin_num\": None, \"Embarked_Q\": None, \"Embarked_S\": None, \n",
    "     \"Fare\": None, \"Male\": None, \"Parch\": None, \"Pclass\": None, \n",
    "     \"SibSp\": None, \"Title\": None}\n",
    "    \n",
    "    # Age\n",
    "    dados[\"Age\"] = Age\n",
    "    # Cabin_let\n",
    "    cabin_keys = [feature for feature in dados.keys() if \"Cabin_\" in feature][:-1]\n",
    "    for cabin_key, cabin_value in zip(cabin_keys, cabin_let_code(Cabin_let)):\n",
    "        dados[cabin_key] = cabin_value\n",
    "    # Cabin_num\n",
    "    dados[\"Cabin_num\"] = Cabin_num\n",
    "    # Embarked\n",
    "    embarked_keys = [feature for feature in dados.keys() if \"Embarked_\" in feature]\n",
    "    embarked_values = embarked_encoder.transform([Embarked[0]])[0,1:]\n",
    "    for embarked_key, embarked_value in zip(embarked_keys, embarked_values):\n",
    "        dados[embarked_key] = embarked_value\n",
    "    # Fare\n",
    "    dados[\"Fare\"] = Fare\n",
    "    # Male\n",
    "    dados[\"Male\"] = extract_male(Sex)\n",
    "    # Parch\n",
    "    dados[\"Parch\"] = Parch\n",
    "    # Pclass\n",
    "    dados[\"Pclass\"] = int(Pclass[:-1])\n",
    "    # SibSp\n",
    "    dados[\"SibSp\"] = SibSp\n",
    "    # Title\n",
    "    dados[\"Title\"] = extract_title(Nome)\n",
    "    \n",
    "    ## Normalização\n",
    "    dados = normalizer(dados)\n",
    "    valores = list(dados.values())\n",
    "    ## Probabilidade\n",
    "    proba = model.predict_proba([valores])[0]\n",
    "\n",
    "    return {\"Sobrevive\": proba[1], \"Morre\": proba[0]}\n",
    "    "
   ]
  },
  {
   "cell_type": "code",
   "execution_count": 5,
   "id": "b9bfce8b-1a3d-41db-9132-6d702e7c8e36",
   "metadata": {},
   "outputs": [
    {
     "name": "stdout",
     "output_type": "stream",
     "text": [
      "Running on local URL:  http://127.0.0.1:7860/\n",
      "\n",
      "To create a public link, set `share=True` in `launch()`.\n"
     ]
    },
    {
     "data": {
      "text/html": [
       "<div><iframe src=\"http://127.0.0.1:7860/\" width=\"900\" height=\"500\" allow=\"autoplay; camera; microphone;\" frameborder=\"0\" allowfullscreen></iframe></div>"
      ],
      "text/plain": [
       "<IPython.core.display.HTML object>"
      ]
     },
     "metadata": {},
     "output_type": "display_data"
    },
    {
     "data": {
      "text/plain": [
       "(<gradio.routes.App at 0x7f2b01651900>, 'http://127.0.0.1:7860/', None)"
      ]
     },
     "execution_count": 5,
     "metadata": {},
     "output_type": "execute_result"
    }
   ],
   "source": [
    "demo = gr.Interface(fn=predict,\n",
    "                   inputs=[\n",
    "                       # Classe\n",
    "                       gr.Dropdown(choices=\"1°, 2°, 3°\".split(\", \"), label=\"Classe\"),\n",
    "                       # Idade\n",
    "                       gr.Slider(minimum=0, maximum=80,step=1, label=\"Idade\"),\n",
    "                       # SibSp\n",
    "                       gr.Slider(minimum=0, maximum=8, step=1, label=\"Quantos irmãos abordo\"),\n",
    "                       # Parch\n",
    "                       gr.Slider(minimum=0, maximum=6, step=1, label=\"Quantos Pais/Filhos abordo\"),\n",
    "                       # Fare\n",
    "                       gr.Number(label=\"Quantos dolares foi a passagem [0, 512]\"),\n",
    "                       # Sex\n",
    "                       gr.Radio(choices=[\"Famale\", \"Male\"], label=\"Sexo\"),\n",
    "                       # Embarked\n",
    "                       gr.Radio(choices=[\"Cherbourg\",\"Queenstown\", \"Southampton\"], label=\"Onde Embarcou\"),\n",
    "                       # Nome\n",
    "                       gr.Textbox(label=\"Digite seu nome com um titulo Ex: Mr. Cleiton alvez\"),\n",
    "                       # Cabin_num\n",
    "                       gr.Slider(minimum=0, maximum=4, step=1, label=\"Quantas cabines você comprou:\"),\n",
    "                       # Cabin_let\n",
    "                       gr.Radio(choices=list(\"ABCDEFGT\")+[\"nenhuma\"], value=\"nenhuma\", label=\"De qual ala comprou\"),\n",
    "                   ],\n",
    "                   outputs=\"label\")\n",
    "\n",
    "demo.launch()"
   ]
  },
  {
   "cell_type": "code",
   "execution_count": null,
   "id": "1f404ec2-ee40-4790-89d0-a0e5f1a00955",
   "metadata": {},
   "outputs": [],
   "source": []
  }
 ],
 "metadata": {
  "kernelspec": {
   "display_name": "titanic_env",
   "language": "python",
   "name": "titanic_env"
  },
  "language_info": {
   "codemirror_mode": {
    "name": "ipython",
    "version": 3
   },
   "file_extension": ".py",
   "mimetype": "text/x-python",
   "name": "python",
   "nbconvert_exporter": "python",
   "pygments_lexer": "ipython3",
   "version": "3.10.6"
  }
 },
 "nbformat": 4,
 "nbformat_minor": 5
}
