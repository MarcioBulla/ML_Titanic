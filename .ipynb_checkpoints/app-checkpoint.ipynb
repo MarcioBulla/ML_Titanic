{
 "cells": [
  {
   "cell_type": "code",
   "execution_count": null,
   "id": "ae82f604-19b2-44cc-a99d-0e9c8209537c",
   "metadata": {},
   "outputs": [],
   "source": []
  }
 ],
 "metadata": {
  "kernelspec": {
   "display_name": "titanic_env",
   "language": "python",
   "name": "titanic_env"
  },
  "language_info": {
   "name": ""
  }
 },
 "nbformat": 4,
 "nbformat_minor": 5
}
