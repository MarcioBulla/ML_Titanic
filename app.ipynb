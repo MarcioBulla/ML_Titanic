{
 "cells": [
  {
   "cell_type": "code",
   "execution_count": 10,
   "id": "23f4de7c-7e0e-4862-8239-719120c6a8fd",
   "metadata": {},
   "outputs": [],
   "source": [
    "import gradio as gr\n",
    "import joblib as jb\n",
    "import os\n"
   ]
  },
  {
   "cell_type": "markdown",
   "id": "d998dc17-f4a1-4c97-a54d-606103560de8",
   "metadata": {},
   "source": [
    "- \"Pclass\", \n",
    "\n",
    "\n",
    "- \"Age\", \n",
    "- \"SibSp\", \n",
    "- \"Parch\", \n",
    "- \"Fare\", \n",
    "- \"Male_code\", \n",
    "- 'Embarked_Q', 'Embarked_S', \n",
    "- \"Title_code\", \n",
    "- \"Cabin_num\", \n",
    "- 'CabinAlla_B', 'CabinAlla_C', 'CabinAlla_D', 'CabinAlla_E', 'CabinAlla_F', 'CabinAlla_G', 'CabinAlla_n'"
   ]
  },
  {
   "cell_type": "code",
   "execution_count": 186,
   "id": "68188332-e0fd-42fc-aa66-51f6e09c13ea",
   "metadata": {},
   "outputs": [],
   "source": [
    "def predict(Pclass, Age, SibSp, Parch, Fare, Sex, Embarked, Title, Cabin_num, Cabin_alla):\n",
    "    local = os.path.join(\".\", \"output\")\n",
    "    model = jb.load(os.path.join(local, \"modelo.pkl\"))\n",
    "    std = jb.load(os.path.join(local, \"normalizer.pkl\"))\n",
    "    title_econder = jb.load(os.path.join(local, \"title_econder.plk\"))\n",
    "    Embarked_econder = jb.load(os.path.join(local, \"embarked_econder.plk\"))\n",
    "    cabin_enconder = jb.load(os.path.join(local, \"cabin_econder.plk\"))\n",
    "    \n",
    "    male = lambda sex: 1 if sex.lower()==\"male\" else 0\n",
    "    Embark_list = Embarked_econder.transform([[Embarked[0]]]).tolist()[0]\n",
    "    title_code = title_econder.transform([Title]).tolist()\n",
    "    cabin_num = Cabin_num\n",
    "    cabin_let = A if Cabin_alla == \"T\" else Cabin_alla[0]\n",
    "    cabin_code= cabin_enconder.transform([[cabin_let]])[0].tolist()\n",
    "    \n",
    "    \n",
    "    # normalize\n",
    "    dados = [int(Pclass[0]), int(Age), int(SibSp), int(Parch), float(Fare)/1000, male(Sex)] + Embark_list + title_code + [cabin_num] + cabin_code\n",
    "    print(dados)\n",
    "    dados_norm = std.transform([dados[:5] + dados[8:10]]).tolist()[0]\n",
    "    dados[:5] = dados_norm[:5]\n",
    "    dados[8:10] = dados_norm[5:]\n",
    "    \n",
    "    proba = model.predict_proba([dados])[0]\n",
    "    \n",
    "    return {\"A chance de sobreviver\": proba[1], \"A chance de morrer\": proba[0]}\n",
    "    "
   ]
  },
  {
   "cell_type": "code",
   "execution_count": 189,
   "id": "1b110030-e78d-4ca9-b97a-7793c16d367a",
   "metadata": {},
   "outputs": [
    {
     "name": "stdout",
     "output_type": "stream",
     "text": [
      "Running on local URL:  http://127.0.0.1:7877/\n",
      "\n",
      "To create a public link, set `share=True` in `launch()`.\n"
     ]
    },
    {
     "data": {
      "text/html": [
       "<div><iframe src=\"http://127.0.0.1:7877/\" width=\"900\" height=\"500\" allow=\"autoplay; camera; microphone;\" frameborder=\"0\" allowfullscreen></iframe></div>"
      ],
      "text/plain": [
       "<IPython.core.display.HTML object>"
      ]
     },
     "metadata": {},
     "output_type": "display_data"
    },
    {
     "data": {
      "text/plain": [
       "(<gradio.routes.App at 0x7f7248182c50>, 'http://127.0.0.1:7877/', None)"
      ]
     },
     "execution_count": 189,
     "metadata": {},
     "output_type": "execute_result"
    },
    {
     "name": "stderr",
     "output_type": "stream",
     "text": [
      "/home/cold/Documents/kaggle/titanic/titanic_env/lib64/python3.10/site-packages/sklearn/base.py:450: UserWarning: X does not have valid feature names, but OneHotEncoder was fitted with feature names\n",
      "  warnings.warn(\n",
      "/home/cold/Documents/kaggle/titanic/titanic_env/lib64/python3.10/site-packages/sklearn/base.py:450: UserWarning: X does not have valid feature names, but OneHotEncoder was fitted with feature names\n",
      "  warnings.warn(\n",
      "/home/cold/Documents/kaggle/titanic/titanic_env/lib64/python3.10/site-packages/sklearn/base.py:450: UserWarning: X does not have valid feature names, but StandardScaler was fitted with feature names\n",
      "  warnings.warn(\n",
      "/home/cold/Documents/kaggle/titanic/titanic_env/lib64/python3.10/site-packages/sklearn/base.py:450: UserWarning: X does not have valid feature names, but SVC was fitted with feature names\n",
      "  warnings.warn(\n",
      "/home/cold/Documents/kaggle/titanic/titanic_env/lib64/python3.10/site-packages/sklearn/base.py:450: UserWarning: X does not have valid feature names, but LogisticRegression was fitted with feature names\n",
      "  warnings.warn(\n",
      "/home/cold/Documents/kaggle/titanic/titanic_env/lib64/python3.10/site-packages/sklearn/base.py:450: UserWarning: X does not have valid feature names, but KNeighborsClassifier was fitted with feature names\n",
      "  warnings.warn(\n",
      "/home/cold/Documents/kaggle/titanic/titanic_env/lib64/python3.10/site-packages/sklearn/base.py:450: UserWarning: X does not have valid feature names, but RandomForestClassifier was fitted with feature names\n",
      "  warnings.warn(\n"
     ]
    },
    {
     "name": "stdout",
     "output_type": "stream",
     "text": [
      "[1, 65, 2, 3, 5000.0, 1, 0.0, 0.0, 1, 0.96, 0.0, 1.0, 0.0, 0.0, 0.0, 0.0, 0.0]\n"
     ]
    }
   ],
   "source": [
    "demo = gr.Interface(fn=predict,\n",
    "                   inputs=[\n",
    "                       gr.Dropdown(choices=\"1°, 2°, 3°\".split(\", \"), label=\"Classe\"),\n",
    "                       gr.Slider(minimum=0, maximum=80,step=1, label=\"Idade\"),\n",
    "                       gr.Slider(minimum=0, maximum=8, step=1, label=\"Quantos irmãos abordo\"),\n",
    "                       gr.Slider(minimum=0, maximum=6, step=1, label=\"Quantos irmãos Pais/Filhos abordo\"),\n",
    "                       gr.Number(label=\"Quantos dolares foi a passagem\"),\n",
    "                       gr.Radio(choices=[\"Famale\", \"Male\"], label=\"Sex\"),\n",
    "                       gr.Radio(choices=[\"Cherbourg\",\"Queenstown\", \"Southampton\"], label=\"Onde Embarcou\"),\n",
    "                       gr.Textbox(label=\"Digite a sigla do seu titulo\"),\n",
    "                       gr.Slider(minimum=0, maximum=4, step=1, label=\"Quantas cabines comprou\"),\n",
    "                       gr.Radio(choices=list(\"ABCDEFGT\")+[\"nenhuma\"], value=\"nenhuma\", label=\"De qual ala comprou\"),\n",
    "                   ],\n",
    "                   outputs=\"label\")\n",
    "\n",
    "demo.launch()"
   ]
  },
  {
   "cell_type": "code",
   "execution_count": null,
   "id": "d0067e30-b54b-48c8-917f-3cb701ff68c3",
   "metadata": {},
   "outputs": [],
   "source": []
  }
 ],
 "metadata": {
  "kernelspec": {
   "display_name": "titanic_env",
   "language": "python",
   "name": "titanic_env"
  },
  "language_info": {
   "codemirror_mode": {
    "name": "ipython",
    "version": 3
   },
   "file_extension": ".py",
   "mimetype": "text/x-python",
   "name": "python",
   "nbconvert_exporter": "python",
   "pygments_lexer": "ipython3",
   "version": "3.10.6"
  }
 },
 "nbformat": 4,
 "nbformat_minor": 5
}
